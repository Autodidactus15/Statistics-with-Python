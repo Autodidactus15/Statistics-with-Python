{
  "cells": [
    {
      "cell_type": "markdown",
      "id": "2c05c220",
      "metadata": {
        "id": "2c05c220"
      },
      "source": [
        "# ДЗ 4. Множественная проверка гипотез. Бутстреп. АБ-тестирование"
      ]
    },
    {
      "cell_type": "markdown",
      "id": "8e9b960d",
      "metadata": {
        "id": "8e9b960d"
      },
      "source": [
        "# Задача 1. (теория, 25 баллов)\n",
        "\n",
        "Ответьте на следующие вопросы своими словами, сопровождая ответ примерами (примеры нужно брать не из лекции, а из собственного опыта/придумав). Половина баллов ставится за теоретический ответ, половина - за корректно приведённый пример.\n",
        "\n",
        "* **(5 баллов)** Что такое ошибки первого и второго рода? Что такое уровень значимости теста и его мощность?\n",
        "\n",
        "Ошибка первого рода - это вероятность отвергнуть гипотезу, когда она верна.\n",
        "Ошибка второго рода - это вероятность не отвергнуть гипотезу, когда она не верна\n",
        "\n",
        "\n",
        " Поставьте задачу проверки гипотезы (сформулируйте не только саму гипотезу, но и альтернативу). На данном примере поясните, что такое ошибка первого рода, ошибка второго рода (см. начало лекции 8 как пример).\n",
        "\n",
        "Сформулируем гипотезу: Школьники из регионов сдают ЕГЭ в среднем так же как и школьники из Москвы:\n",
        "Н(0): Среднее первой и второй совокупности равны\n",
        "H(A): Среднее совокупности московских школьников выше, чем среднее для регионов\n",
        "В этом случае ошибкой первого рода будет сказать, что среднее не равно, когда в совокупности оно одинаково, а ошибкой второго рода будет утверждать, что среднее равно, когда в реальности это будет не так\n",
        "\n",
        "\n",
        "* **(10 баллов)** Зачем нужна множественная проверка гипотез? Что такое FWER? Почему мощность метода Бонферрони меньше, чем мощность метода Холма? Приведите пример ситуации, когда применение методов множественной проверки гипотез может быть необходимо.\n",
        "\n",
        "Множественная проверка гипотез - это процесс проверки n гипотез одновременно. В случае, когда мы проверяем несколько гипотез одновременно вероятность ошибки первого рода растет экспоненциально, поэтому для проверки нескольких гипотез нам нужно использовать определенные стратегии ,которые могут помочь контролировать рост ошибки первого рода.\n",
        "\n",
        "FWER - вероятность совершить хотя бы одну ошибку первого рода при тестировании гипотез.\n",
        "\n",
        "Метод Холма - это поправка к методу Бонферрони, который слишком сильно снижает порог ошибки первого рода, что приводит к росту ошибки второго рода. Мощность теста у нас вычисляется как из единицы  вычесть вероятность ошибки второго рода, а значит тест, с слишкой большой ошибкой второго рода, будет имень маленькую мощность. В методе Холла у нас более мягкое отношение к ошибке первого рода, так как вместо того, чтобы устанавливать порог ошибка на урове а/к, мы пользуемся схемой а/к, а/(к-1)....\n",
        "\n",
        "Примером множественного тестирование гипотез может служить испытание различных модификаций уже существующего препарата, являются ли они более эффективными или нет. В таком случае нам нужно будет сравнивать каждую модификацию с существующим препаратом.\n",
        "\n",
        "\n",
        "\n",
        "* **(10 баллов)**  Для чего нужен бутстреп? Какой должна быть выборка, чтобы бутстреп был успешен? Чем отличается доверительный интервал Холла от доверительного интервала Эфрона? Приведите пример небольшой выборки и 3 бутстреповских выборок из неё. Посчитайте с их помощью дисперсию первого выборочного квартиля (25% перцентиля).\n",
        "\n",
        "Бутстреп нужен нам для нахождении информации о генеральной совокупности путем анализа выборки, когда мы не знаем информации о распределении. Однако бутстреп хорошо работает только с репрезентативной выборкой, если это не так, то эффективность данного метода падает.\n",
        "\n",
        "Доверительный интервал Холла отличается наличием центрирования статистики тета (тета из бутсреповской выборки - тета из данной выборки), что помогает получать несмещенные результаты.\n",
        "Приведем пример выборки:\n",
        "(1, 2, 3) -> бутстреповские выборки (1,1, 2), (2,3,3), (3,3,3)\n",
        "-> квартили (у нас первым квартилем будет первое значение по формуле k*(n+10)/4) 1,2,3 -> дисперсия (1+0+1)/3 = 2/3"
      ]
    },
    {
      "cell_type": "code",
      "execution_count": 14,
      "id": "b4865c86",
      "metadata": {
        "id": "b4865c86"
      },
      "outputs": [],
      "source": [
        "import numpy as np\n",
        "import scipy.stats as sps\n",
        "import pandas as pd\n",
        "import matplotlib.pyplot as plt"
      ]
    },
    {
      "cell_type": "markdown",
      "id": "482c099d",
      "metadata": {
        "id": "482c099d"
      },
      "source": [
        "# Задача 2. (75 баллов)"
      ]
    },
    {
      "cell_type": "markdown",
      "id": "46265bb4",
      "metadata": {
        "id": "46265bb4"
      },
      "source": [
        "Вы являетесь владельцем сайта, на котором размещаются аккорды и табулатуры для гитары к известным песням. Для того, чтобы извлечь прибыль из помощи начинающим музыкантам, вы размещаете на своём сайте очень релевантную пользователям рекламу. Под неё у вас имеется три выделенных места на странице сайта (то есть одновременно показываются три объявления). Если на объявление кликают, то с рекламодателя списывается определённый платёж. Каждая строчка в логе - это информация об одном заходе на сайт. В соответствующей рекламной позиции колонке пишется платёж рекламодателя, либо 0, если на рекламу пользователь не кликал.\n",
        "\n",
        "Тут к вам приходит ML-разработчик и говорит, что он обучил модель, улучшающую ранжирование (отбор) рекламы. Вы решаете провести AB-тест. После его проведения у вас в наличии контрольная (до изменения ранжирования) и тестовая (с новой моделью ранжирования) выборки платежей рекламодателей с каждой позиции (то есть всего шесть массивов). Ваш подчинённый стажёр-аналитик уже почистил их от выбросов и загрузил их в numpy массивы.\n",
        "\n",
        "* **(10 баллов)** Загрузите данные. Визуализируйте их, построив сравнительные гистограммы (то есть на одном графике постройте гистограммы до и после внедрения) для каждой позиции. Какая особенность в данных имеется? Есть ли эффект от внедрения на каждой позиции или нет (визуально)?"
      ]
    },
    {
      "cell_type": "code",
      "execution_count": 15,
      "id": "7af2d92c",
      "metadata": {
        "vscode": {
          "languageId": "r"
        },
        "colab": {
          "base_uri": "https://localhost:8080/",
          "height": 206
        },
        "id": "7af2d92c",
        "outputId": "ea965686-6bd5-4176-a0a5-354bd6822bc6"
      },
      "outputs": [
        {
          "output_type": "execute_result",
          "data": {
            "text/plain": [
              "   Unnamed: 0  position_1  position_2  position_3\n",
              "0           0  162.653811  129.137424  156.936867\n",
              "1           1  141.669563   87.411934  109.776013\n",
              "2           2    0.000000  101.022540  147.892473\n",
              "3           3  158.722011   78.210189   97.205361\n",
              "4           4    0.000000  177.414528    0.000000"
            ],
            "text/html": [
              "\n",
              "  <div id=\"df-d5e8b895-9637-43fd-931b-c9974154744f\" class=\"colab-df-container\">\n",
              "    <div>\n",
              "<style scoped>\n",
              "    .dataframe tbody tr th:only-of-type {\n",
              "        vertical-align: middle;\n",
              "    }\n",
              "\n",
              "    .dataframe tbody tr th {\n",
              "        vertical-align: top;\n",
              "    }\n",
              "\n",
              "    .dataframe thead th {\n",
              "        text-align: right;\n",
              "    }\n",
              "</style>\n",
              "<table border=\"1\" class=\"dataframe\">\n",
              "  <thead>\n",
              "    <tr style=\"text-align: right;\">\n",
              "      <th></th>\n",
              "      <th>Unnamed: 0</th>\n",
              "      <th>position_1</th>\n",
              "      <th>position_2</th>\n",
              "      <th>position_3</th>\n",
              "    </tr>\n",
              "  </thead>\n",
              "  <tbody>\n",
              "    <tr>\n",
              "      <th>0</th>\n",
              "      <td>0</td>\n",
              "      <td>162.653811</td>\n",
              "      <td>129.137424</td>\n",
              "      <td>156.936867</td>\n",
              "    </tr>\n",
              "    <tr>\n",
              "      <th>1</th>\n",
              "      <td>1</td>\n",
              "      <td>141.669563</td>\n",
              "      <td>87.411934</td>\n",
              "      <td>109.776013</td>\n",
              "    </tr>\n",
              "    <tr>\n",
              "      <th>2</th>\n",
              "      <td>2</td>\n",
              "      <td>0.000000</td>\n",
              "      <td>101.022540</td>\n",
              "      <td>147.892473</td>\n",
              "    </tr>\n",
              "    <tr>\n",
              "      <th>3</th>\n",
              "      <td>3</td>\n",
              "      <td>158.722011</td>\n",
              "      <td>78.210189</td>\n",
              "      <td>97.205361</td>\n",
              "    </tr>\n",
              "    <tr>\n",
              "      <th>4</th>\n",
              "      <td>4</td>\n",
              "      <td>0.000000</td>\n",
              "      <td>177.414528</td>\n",
              "      <td>0.000000</td>\n",
              "    </tr>\n",
              "  </tbody>\n",
              "</table>\n",
              "</div>\n",
              "    <div class=\"colab-df-buttons\">\n",
              "\n",
              "  <div class=\"colab-df-container\">\n",
              "    <button class=\"colab-df-convert\" onclick=\"convertToInteractive('df-d5e8b895-9637-43fd-931b-c9974154744f')\"\n",
              "            title=\"Convert this dataframe to an interactive table.\"\n",
              "            style=\"display:none;\">\n",
              "\n",
              "  <svg xmlns=\"http://www.w3.org/2000/svg\" height=\"24px\" viewBox=\"0 -960 960 960\">\n",
              "    <path d=\"M120-120v-720h720v720H120Zm60-500h600v-160H180v160Zm220 220h160v-160H400v160Zm0 220h160v-160H400v160ZM180-400h160v-160H180v160Zm440 0h160v-160H620v160ZM180-180h160v-160H180v160Zm440 0h160v-160H620v160Z\"/>\n",
              "  </svg>\n",
              "    </button>\n",
              "\n",
              "  <style>\n",
              "    .colab-df-container {\n",
              "      display:flex;\n",
              "      gap: 12px;\n",
              "    }\n",
              "\n",
              "    .colab-df-convert {\n",
              "      background-color: #E8F0FE;\n",
              "      border: none;\n",
              "      border-radius: 50%;\n",
              "      cursor: pointer;\n",
              "      display: none;\n",
              "      fill: #1967D2;\n",
              "      height: 32px;\n",
              "      padding: 0 0 0 0;\n",
              "      width: 32px;\n",
              "    }\n",
              "\n",
              "    .colab-df-convert:hover {\n",
              "      background-color: #E2EBFA;\n",
              "      box-shadow: 0px 1px 2px rgba(60, 64, 67, 0.3), 0px 1px 3px 1px rgba(60, 64, 67, 0.15);\n",
              "      fill: #174EA6;\n",
              "    }\n",
              "\n",
              "    .colab-df-buttons div {\n",
              "      margin-bottom: 4px;\n",
              "    }\n",
              "\n",
              "    [theme=dark] .colab-df-convert {\n",
              "      background-color: #3B4455;\n",
              "      fill: #D2E3FC;\n",
              "    }\n",
              "\n",
              "    [theme=dark] .colab-df-convert:hover {\n",
              "      background-color: #434B5C;\n",
              "      box-shadow: 0px 1px 3px 1px rgba(0, 0, 0, 0.15);\n",
              "      filter: drop-shadow(0px 1px 2px rgba(0, 0, 0, 0.3));\n",
              "      fill: #FFFFFF;\n",
              "    }\n",
              "  </style>\n",
              "\n",
              "    <script>\n",
              "      const buttonEl =\n",
              "        document.querySelector('#df-d5e8b895-9637-43fd-931b-c9974154744f button.colab-df-convert');\n",
              "      buttonEl.style.display =\n",
              "        google.colab.kernel.accessAllowed ? 'block' : 'none';\n",
              "\n",
              "      async function convertToInteractive(key) {\n",
              "        const element = document.querySelector('#df-d5e8b895-9637-43fd-931b-c9974154744f');\n",
              "        const dataTable =\n",
              "          await google.colab.kernel.invokeFunction('convertToInteractive',\n",
              "                                                    [key], {});\n",
              "        if (!dataTable) return;\n",
              "\n",
              "        const docLinkHtml = 'Like what you see? Visit the ' +\n",
              "          '<a target=\"_blank\" href=https://colab.research.google.com/notebooks/data_table.ipynb>data table notebook</a>'\n",
              "          + ' to learn more about interactive tables.';\n",
              "        element.innerHTML = '';\n",
              "        dataTable['output_type'] = 'display_data';\n",
              "        await google.colab.output.renderOutput(dataTable, element);\n",
              "        const docLink = document.createElement('div');\n",
              "        docLink.innerHTML = docLinkHtml;\n",
              "        element.appendChild(docLink);\n",
              "      }\n",
              "    </script>\n",
              "  </div>\n",
              "\n",
              "\n",
              "<div id=\"df-b9f6e78e-7f04-4c64-9dbc-fda86215a7db\">\n",
              "  <button class=\"colab-df-quickchart\" onclick=\"quickchart('df-b9f6e78e-7f04-4c64-9dbc-fda86215a7db')\"\n",
              "            title=\"Suggest charts\"\n",
              "            style=\"display:none;\">\n",
              "\n",
              "<svg xmlns=\"http://www.w3.org/2000/svg\" height=\"24px\"viewBox=\"0 0 24 24\"\n",
              "     width=\"24px\">\n",
              "    <g>\n",
              "        <path d=\"M19 3H5c-1.1 0-2 .9-2 2v14c0 1.1.9 2 2 2h14c1.1 0 2-.9 2-2V5c0-1.1-.9-2-2-2zM9 17H7v-7h2v7zm4 0h-2V7h2v10zm4 0h-2v-4h2v4z\"/>\n",
              "    </g>\n",
              "</svg>\n",
              "  </button>\n",
              "\n",
              "<style>\n",
              "  .colab-df-quickchart {\n",
              "      --bg-color: #E8F0FE;\n",
              "      --fill-color: #1967D2;\n",
              "      --hover-bg-color: #E2EBFA;\n",
              "      --hover-fill-color: #174EA6;\n",
              "      --disabled-fill-color: #AAA;\n",
              "      --disabled-bg-color: #DDD;\n",
              "  }\n",
              "\n",
              "  [theme=dark] .colab-df-quickchart {\n",
              "      --bg-color: #3B4455;\n",
              "      --fill-color: #D2E3FC;\n",
              "      --hover-bg-color: #434B5C;\n",
              "      --hover-fill-color: #FFFFFF;\n",
              "      --disabled-bg-color: #3B4455;\n",
              "      --disabled-fill-color: #666;\n",
              "  }\n",
              "\n",
              "  .colab-df-quickchart {\n",
              "    background-color: var(--bg-color);\n",
              "    border: none;\n",
              "    border-radius: 50%;\n",
              "    cursor: pointer;\n",
              "    display: none;\n",
              "    fill: var(--fill-color);\n",
              "    height: 32px;\n",
              "    padding: 0;\n",
              "    width: 32px;\n",
              "  }\n",
              "\n",
              "  .colab-df-quickchart:hover {\n",
              "    background-color: var(--hover-bg-color);\n",
              "    box-shadow: 0 1px 2px rgba(60, 64, 67, 0.3), 0 1px 3px 1px rgba(60, 64, 67, 0.15);\n",
              "    fill: var(--button-hover-fill-color);\n",
              "  }\n",
              "\n",
              "  .colab-df-quickchart-complete:disabled,\n",
              "  .colab-df-quickchart-complete:disabled:hover {\n",
              "    background-color: var(--disabled-bg-color);\n",
              "    fill: var(--disabled-fill-color);\n",
              "    box-shadow: none;\n",
              "  }\n",
              "\n",
              "  .colab-df-spinner {\n",
              "    border: 2px solid var(--fill-color);\n",
              "    border-color: transparent;\n",
              "    border-bottom-color: var(--fill-color);\n",
              "    animation:\n",
              "      spin 1s steps(1) infinite;\n",
              "  }\n",
              "\n",
              "  @keyframes spin {\n",
              "    0% {\n",
              "      border-color: transparent;\n",
              "      border-bottom-color: var(--fill-color);\n",
              "      border-left-color: var(--fill-color);\n",
              "    }\n",
              "    20% {\n",
              "      border-color: transparent;\n",
              "      border-left-color: var(--fill-color);\n",
              "      border-top-color: var(--fill-color);\n",
              "    }\n",
              "    30% {\n",
              "      border-color: transparent;\n",
              "      border-left-color: var(--fill-color);\n",
              "      border-top-color: var(--fill-color);\n",
              "      border-right-color: var(--fill-color);\n",
              "    }\n",
              "    40% {\n",
              "      border-color: transparent;\n",
              "      border-right-color: var(--fill-color);\n",
              "      border-top-color: var(--fill-color);\n",
              "    }\n",
              "    60% {\n",
              "      border-color: transparent;\n",
              "      border-right-color: var(--fill-color);\n",
              "    }\n",
              "    80% {\n",
              "      border-color: transparent;\n",
              "      border-right-color: var(--fill-color);\n",
              "      border-bottom-color: var(--fill-color);\n",
              "    }\n",
              "    90% {\n",
              "      border-color: transparent;\n",
              "      border-bottom-color: var(--fill-color);\n",
              "    }\n",
              "  }\n",
              "</style>\n",
              "\n",
              "  <script>\n",
              "    async function quickchart(key) {\n",
              "      const quickchartButtonEl =\n",
              "        document.querySelector('#' + key + ' button');\n",
              "      quickchartButtonEl.disabled = true;  // To prevent multiple clicks.\n",
              "      quickchartButtonEl.classList.add('colab-df-spinner');\n",
              "      try {\n",
              "        const charts = await google.colab.kernel.invokeFunction(\n",
              "            'suggestCharts', [key], {});\n",
              "      } catch (error) {\n",
              "        console.error('Error during call to suggestCharts:', error);\n",
              "      }\n",
              "      quickchartButtonEl.classList.remove('colab-df-spinner');\n",
              "      quickchartButtonEl.classList.add('colab-df-quickchart-complete');\n",
              "    }\n",
              "    (() => {\n",
              "      let quickchartButtonEl =\n",
              "        document.querySelector('#df-b9f6e78e-7f04-4c64-9dbc-fda86215a7db button');\n",
              "      quickchartButtonEl.style.display =\n",
              "        google.colab.kernel.accessAllowed ? 'block' : 'none';\n",
              "    })();\n",
              "  </script>\n",
              "</div>\n",
              "\n",
              "    </div>\n",
              "  </div>\n"
            ],
            "application/vnd.google.colaboratory.intrinsic+json": {
              "type": "dataframe",
              "variable_name": "data",
              "summary": "{\n  \"name\": \"data\",\n  \"rows\": 1432,\n  \"fields\": [\n    {\n      \"column\": \"Unnamed: 0\",\n      \"properties\": {\n        \"dtype\": \"number\",\n        \"std\": 413,\n        \"min\": 0,\n        \"max\": 1431,\n        \"num_unique_values\": 1432,\n        \"samples\": [\n          123,\n          1192,\n          462\n        ],\n        \"semantic_type\": \"\",\n        \"description\": \"\"\n      }\n    },\n    {\n      \"column\": \"position_1\",\n      \"properties\": {\n        \"dtype\": \"number\",\n        \"std\": 75.58791620059723,\n        \"min\": 0.0,\n        \"max\": 409.6888056102769,\n        \"num_unique_values\": 1001,\n        \"samples\": [\n          39.31328350480531,\n          147.39599559601095,\n          216.3235454807522\n        ],\n        \"semantic_type\": \"\",\n        \"description\": \"\"\n      }\n    },\n    {\n      \"column\": \"position_2\",\n      \"properties\": {\n        \"dtype\": \"number\",\n        \"std\": 72.24042747458688,\n        \"min\": 0.0,\n        \"max\": 392.0992171336363,\n        \"num_unique_values\": 1033,\n        \"samples\": [\n          124.57968274464233,\n          159.03567841058376,\n          174.17542704119356\n        ],\n        \"semantic_type\": \"\",\n        \"description\": \"\"\n      }\n    },\n    {\n      \"column\": \"position_3\",\n      \"properties\": {\n        \"dtype\": \"number\",\n        \"std\": 81.40785319659949,\n        \"min\": 0.0,\n        \"max\": 432.18099732224647,\n        \"num_unique_values\": 1133,\n        \"samples\": [\n          104.11749540649257,\n          142.88762485518114,\n          78.79893369560733\n        ],\n        \"semantic_type\": \"\",\n        \"description\": \"\"\n      }\n    }\n  ]\n}"
            }
          },
          "metadata": {},
          "execution_count": 15
        }
      ],
      "source": [
        "data = pd.read_csv(\"/content/control.csv\")\n",
        "data.head()"
      ]
    },
    {
      "cell_type": "code",
      "source": [
        "data_test = pd.read_csv(\"/content/test.csv\")\n",
        "data_test.head()"
      ],
      "metadata": {
        "colab": {
          "base_uri": "https://localhost:8080/",
          "height": 206
        },
        "id": "0RBXGQGgl2tn",
        "outputId": "0e3b8f5c-2930-4a04-bac8-842cb2276572"
      },
      "id": "0RBXGQGgl2tn",
      "execution_count": 16,
      "outputs": [
        {
          "output_type": "execute_result",
          "data": {
            "text/plain": [
              "   Unnamed: 0  position_1  position_2  position_3\n",
              "0           0    0.000000   51.098903    0.000000\n",
              "1           1    0.000000  101.628224  278.852799\n",
              "2           2   55.937492   81.885707  115.588688\n",
              "3           3   46.283994    0.000000  108.444513\n",
              "4           4    0.000000    0.000000  151.055981"
            ],
            "text/html": [
              "\n",
              "  <div id=\"df-e9ff79d9-3f3b-4c1e-9980-4425dcf7522a\" class=\"colab-df-container\">\n",
              "    <div>\n",
              "<style scoped>\n",
              "    .dataframe tbody tr th:only-of-type {\n",
              "        vertical-align: middle;\n",
              "    }\n",
              "\n",
              "    .dataframe tbody tr th {\n",
              "        vertical-align: top;\n",
              "    }\n",
              "\n",
              "    .dataframe thead th {\n",
              "        text-align: right;\n",
              "    }\n",
              "</style>\n",
              "<table border=\"1\" class=\"dataframe\">\n",
              "  <thead>\n",
              "    <tr style=\"text-align: right;\">\n",
              "      <th></th>\n",
              "      <th>Unnamed: 0</th>\n",
              "      <th>position_1</th>\n",
              "      <th>position_2</th>\n",
              "      <th>position_3</th>\n",
              "    </tr>\n",
              "  </thead>\n",
              "  <tbody>\n",
              "    <tr>\n",
              "      <th>0</th>\n",
              "      <td>0</td>\n",
              "      <td>0.000000</td>\n",
              "      <td>51.098903</td>\n",
              "      <td>0.000000</td>\n",
              "    </tr>\n",
              "    <tr>\n",
              "      <th>1</th>\n",
              "      <td>1</td>\n",
              "      <td>0.000000</td>\n",
              "      <td>101.628224</td>\n",
              "      <td>278.852799</td>\n",
              "    </tr>\n",
              "    <tr>\n",
              "      <th>2</th>\n",
              "      <td>2</td>\n",
              "      <td>55.937492</td>\n",
              "      <td>81.885707</td>\n",
              "      <td>115.588688</td>\n",
              "    </tr>\n",
              "    <tr>\n",
              "      <th>3</th>\n",
              "      <td>3</td>\n",
              "      <td>46.283994</td>\n",
              "      <td>0.000000</td>\n",
              "      <td>108.444513</td>\n",
              "    </tr>\n",
              "    <tr>\n",
              "      <th>4</th>\n",
              "      <td>4</td>\n",
              "      <td>0.000000</td>\n",
              "      <td>0.000000</td>\n",
              "      <td>151.055981</td>\n",
              "    </tr>\n",
              "  </tbody>\n",
              "</table>\n",
              "</div>\n",
              "    <div class=\"colab-df-buttons\">\n",
              "\n",
              "  <div class=\"colab-df-container\">\n",
              "    <button class=\"colab-df-convert\" onclick=\"convertToInteractive('df-e9ff79d9-3f3b-4c1e-9980-4425dcf7522a')\"\n",
              "            title=\"Convert this dataframe to an interactive table.\"\n",
              "            style=\"display:none;\">\n",
              "\n",
              "  <svg xmlns=\"http://www.w3.org/2000/svg\" height=\"24px\" viewBox=\"0 -960 960 960\">\n",
              "    <path d=\"M120-120v-720h720v720H120Zm60-500h600v-160H180v160Zm220 220h160v-160H400v160Zm0 220h160v-160H400v160ZM180-400h160v-160H180v160Zm440 0h160v-160H620v160ZM180-180h160v-160H180v160Zm440 0h160v-160H620v160Z\"/>\n",
              "  </svg>\n",
              "    </button>\n",
              "\n",
              "  <style>\n",
              "    .colab-df-container {\n",
              "      display:flex;\n",
              "      gap: 12px;\n",
              "    }\n",
              "\n",
              "    .colab-df-convert {\n",
              "      background-color: #E8F0FE;\n",
              "      border: none;\n",
              "      border-radius: 50%;\n",
              "      cursor: pointer;\n",
              "      display: none;\n",
              "      fill: #1967D2;\n",
              "      height: 32px;\n",
              "      padding: 0 0 0 0;\n",
              "      width: 32px;\n",
              "    }\n",
              "\n",
              "    .colab-df-convert:hover {\n",
              "      background-color: #E2EBFA;\n",
              "      box-shadow: 0px 1px 2px rgba(60, 64, 67, 0.3), 0px 1px 3px 1px rgba(60, 64, 67, 0.15);\n",
              "      fill: #174EA6;\n",
              "    }\n",
              "\n",
              "    .colab-df-buttons div {\n",
              "      margin-bottom: 4px;\n",
              "    }\n",
              "\n",
              "    [theme=dark] .colab-df-convert {\n",
              "      background-color: #3B4455;\n",
              "      fill: #D2E3FC;\n",
              "    }\n",
              "\n",
              "    [theme=dark] .colab-df-convert:hover {\n",
              "      background-color: #434B5C;\n",
              "      box-shadow: 0px 1px 3px 1px rgba(0, 0, 0, 0.15);\n",
              "      filter: drop-shadow(0px 1px 2px rgba(0, 0, 0, 0.3));\n",
              "      fill: #FFFFFF;\n",
              "    }\n",
              "  </style>\n",
              "\n",
              "    <script>\n",
              "      const buttonEl =\n",
              "        document.querySelector('#df-e9ff79d9-3f3b-4c1e-9980-4425dcf7522a button.colab-df-convert');\n",
              "      buttonEl.style.display =\n",
              "        google.colab.kernel.accessAllowed ? 'block' : 'none';\n",
              "\n",
              "      async function convertToInteractive(key) {\n",
              "        const element = document.querySelector('#df-e9ff79d9-3f3b-4c1e-9980-4425dcf7522a');\n",
              "        const dataTable =\n",
              "          await google.colab.kernel.invokeFunction('convertToInteractive',\n",
              "                                                    [key], {});\n",
              "        if (!dataTable) return;\n",
              "\n",
              "        const docLinkHtml = 'Like what you see? Visit the ' +\n",
              "          '<a target=\"_blank\" href=https://colab.research.google.com/notebooks/data_table.ipynb>data table notebook</a>'\n",
              "          + ' to learn more about interactive tables.';\n",
              "        element.innerHTML = '';\n",
              "        dataTable['output_type'] = 'display_data';\n",
              "        await google.colab.output.renderOutput(dataTable, element);\n",
              "        const docLink = document.createElement('div');\n",
              "        docLink.innerHTML = docLinkHtml;\n",
              "        element.appendChild(docLink);\n",
              "      }\n",
              "    </script>\n",
              "  </div>\n",
              "\n",
              "\n",
              "<div id=\"df-db5f408c-f126-40c8-825e-f568aba706da\">\n",
              "  <button class=\"colab-df-quickchart\" onclick=\"quickchart('df-db5f408c-f126-40c8-825e-f568aba706da')\"\n",
              "            title=\"Suggest charts\"\n",
              "            style=\"display:none;\">\n",
              "\n",
              "<svg xmlns=\"http://www.w3.org/2000/svg\" height=\"24px\"viewBox=\"0 0 24 24\"\n",
              "     width=\"24px\">\n",
              "    <g>\n",
              "        <path d=\"M19 3H5c-1.1 0-2 .9-2 2v14c0 1.1.9 2 2 2h14c1.1 0 2-.9 2-2V5c0-1.1-.9-2-2-2zM9 17H7v-7h2v7zm4 0h-2V7h2v10zm4 0h-2v-4h2v4z\"/>\n",
              "    </g>\n",
              "</svg>\n",
              "  </button>\n",
              "\n",
              "<style>\n",
              "  .colab-df-quickchart {\n",
              "      --bg-color: #E8F0FE;\n",
              "      --fill-color: #1967D2;\n",
              "      --hover-bg-color: #E2EBFA;\n",
              "      --hover-fill-color: #174EA6;\n",
              "      --disabled-fill-color: #AAA;\n",
              "      --disabled-bg-color: #DDD;\n",
              "  }\n",
              "\n",
              "  [theme=dark] .colab-df-quickchart {\n",
              "      --bg-color: #3B4455;\n",
              "      --fill-color: #D2E3FC;\n",
              "      --hover-bg-color: #434B5C;\n",
              "      --hover-fill-color: #FFFFFF;\n",
              "      --disabled-bg-color: #3B4455;\n",
              "      --disabled-fill-color: #666;\n",
              "  }\n",
              "\n",
              "  .colab-df-quickchart {\n",
              "    background-color: var(--bg-color);\n",
              "    border: none;\n",
              "    border-radius: 50%;\n",
              "    cursor: pointer;\n",
              "    display: none;\n",
              "    fill: var(--fill-color);\n",
              "    height: 32px;\n",
              "    padding: 0;\n",
              "    width: 32px;\n",
              "  }\n",
              "\n",
              "  .colab-df-quickchart:hover {\n",
              "    background-color: var(--hover-bg-color);\n",
              "    box-shadow: 0 1px 2px rgba(60, 64, 67, 0.3), 0 1px 3px 1px rgba(60, 64, 67, 0.15);\n",
              "    fill: var(--button-hover-fill-color);\n",
              "  }\n",
              "\n",
              "  .colab-df-quickchart-complete:disabled,\n",
              "  .colab-df-quickchart-complete:disabled:hover {\n",
              "    background-color: var(--disabled-bg-color);\n",
              "    fill: var(--disabled-fill-color);\n",
              "    box-shadow: none;\n",
              "  }\n",
              "\n",
              "  .colab-df-spinner {\n",
              "    border: 2px solid var(--fill-color);\n",
              "    border-color: transparent;\n",
              "    border-bottom-color: var(--fill-color);\n",
              "    animation:\n",
              "      spin 1s steps(1) infinite;\n",
              "  }\n",
              "\n",
              "  @keyframes spin {\n",
              "    0% {\n",
              "      border-color: transparent;\n",
              "      border-bottom-color: var(--fill-color);\n",
              "      border-left-color: var(--fill-color);\n",
              "    }\n",
              "    20% {\n",
              "      border-color: transparent;\n",
              "      border-left-color: var(--fill-color);\n",
              "      border-top-color: var(--fill-color);\n",
              "    }\n",
              "    30% {\n",
              "      border-color: transparent;\n",
              "      border-left-color: var(--fill-color);\n",
              "      border-top-color: var(--fill-color);\n",
              "      border-right-color: var(--fill-color);\n",
              "    }\n",
              "    40% {\n",
              "      border-color: transparent;\n",
              "      border-right-color: var(--fill-color);\n",
              "      border-top-color: var(--fill-color);\n",
              "    }\n",
              "    60% {\n",
              "      border-color: transparent;\n",
              "      border-right-color: var(--fill-color);\n",
              "    }\n",
              "    80% {\n",
              "      border-color: transparent;\n",
              "      border-right-color: var(--fill-color);\n",
              "      border-bottom-color: var(--fill-color);\n",
              "    }\n",
              "    90% {\n",
              "      border-color: transparent;\n",
              "      border-bottom-color: var(--fill-color);\n",
              "    }\n",
              "  }\n",
              "</style>\n",
              "\n",
              "  <script>\n",
              "    async function quickchart(key) {\n",
              "      const quickchartButtonEl =\n",
              "        document.querySelector('#' + key + ' button');\n",
              "      quickchartButtonEl.disabled = true;  // To prevent multiple clicks.\n",
              "      quickchartButtonEl.classList.add('colab-df-spinner');\n",
              "      try {\n",
              "        const charts = await google.colab.kernel.invokeFunction(\n",
              "            'suggestCharts', [key], {});\n",
              "      } catch (error) {\n",
              "        console.error('Error during call to suggestCharts:', error);\n",
              "      }\n",
              "      quickchartButtonEl.classList.remove('colab-df-spinner');\n",
              "      quickchartButtonEl.classList.add('colab-df-quickchart-complete');\n",
              "    }\n",
              "    (() => {\n",
              "      let quickchartButtonEl =\n",
              "        document.querySelector('#df-db5f408c-f126-40c8-825e-f568aba706da button');\n",
              "      quickchartButtonEl.style.display =\n",
              "        google.colab.kernel.accessAllowed ? 'block' : 'none';\n",
              "    })();\n",
              "  </script>\n",
              "</div>\n",
              "\n",
              "    </div>\n",
              "  </div>\n"
            ],
            "application/vnd.google.colaboratory.intrinsic+json": {
              "type": "dataframe",
              "variable_name": "data_test",
              "summary": "{\n  \"name\": \"data_test\",\n  \"rows\": 1522,\n  \"fields\": [\n    {\n      \"column\": \"Unnamed: 0\",\n      \"properties\": {\n        \"dtype\": \"number\",\n        \"std\": 439,\n        \"min\": 0,\n        \"max\": 1521,\n        \"num_unique_values\": 1522,\n        \"samples\": [\n          566,\n          1101,\n          1474\n        ],\n        \"semantic_type\": \"\",\n        \"description\": \"\"\n      }\n    },\n    {\n      \"column\": \"position_1\",\n      \"properties\": {\n        \"dtype\": \"number\",\n        \"std\": 82.64284324221539,\n        \"min\": 0.0,\n        \"max\": 407.2294330445694,\n        \"num_unique_values\": 1011,\n        \"samples\": [\n          38.05266210288293,\n          144.0201126252087,\n          104.2643939048438\n        ],\n        \"semantic_type\": \"\",\n        \"description\": \"\"\n      }\n    },\n    {\n      \"column\": \"position_2\",\n      \"properties\": {\n        \"dtype\": \"number\",\n        \"std\": 86.6263079115689,\n        \"min\": 0.0,\n        \"max\": 623.3286734787293,\n        \"num_unique_values\": 1023,\n        \"samples\": [\n          75.43131909461155,\n          171.42720691083943,\n          348.54647429777543\n        ],\n        \"semantic_type\": \"\",\n        \"description\": \"\"\n      }\n    },\n    {\n      \"column\": \"position_3\",\n      \"properties\": {\n        \"dtype\": \"number\",\n        \"std\": 83.69564372078814,\n        \"min\": 0.0,\n        \"max\": 475.7451000601645,\n        \"num_unique_values\": 1123,\n        \"samples\": [\n          47.43052693764822,\n          71.35822172165526,\n          184.307882891193\n        ],\n        \"semantic_type\": \"\",\n        \"description\": \"\"\n      }\n    }\n  ]\n}"
            }
          },
          "metadata": {},
          "execution_count": 16
        }
      ]
    },
    {
      "cell_type": "code",
      "source": [
        "fig, ax = plt.subplots(1, 3)\n",
        "for i in range(3):\n",
        "    ax[i].hist(data.iloc[:,i+1], color='blue', alpha=0.3, label='initial')\n",
        "    ax[i].hist(data_test.iloc[:,i+1], color='red', alpha=0.3, label='test')\n",
        "    ax[i].legend(loc='upper right')\n",
        "    ax[i].set_title(f'Position {i+1}')\n",
        "plt.tight_layout()\n",
        "plt.show()"
      ],
      "metadata": {
        "colab": {
          "base_uri": "https://localhost:8080/",
          "height": 487
        },
        "id": "dk5W4r3ImGPQ",
        "outputId": "338d1a5d-75a0-4982-9097-33653c1526df"
      },
      "id": "dk5W4r3ImGPQ",
      "execution_count": 17,
      "outputs": [
        {
          "output_type": "display_data",
          "data": {
            "text/plain": [
              "<Figure size 640x480 with 3 Axes>"
            ],
            "image/png": "[encoded data removed]"
          },
          "metadata": {}
        }
      ]
    },
    {
      "cell_type": "markdown",
      "id": "76c27623",
      "metadata": {
        "id": "76c27623"
      },
      "source": [
        "* **(15 баллов)** Вы решили посмотреть на среднюю прибыль на каждой позиции в отдельности. Контролируя FWER на уровне 0.05 проверьте гипотезу о том, что внедрение увеличивает среднюю прибыль с позиции?"
      ]
    },
    {
      "cell_type": "code",
      "execution_count": 23,
      "id": "b5e1ffb9",
      "metadata": {
        "vscode": {
          "languageId": "r"
        },
        "colab": {
          "base_uri": "https://localhost:8080/"
        },
        "id": "b5e1ffb9",
        "outputId": "3d72e79d-8eda-4d11-e9a8-0b4ad26ff3d6"
      },
      "outputs": [
        {
          "output_type": "stream",
          "name": "stdout",
          "text": [
            "[0.05524919206993822, 0.008340144242944762, 1.0]\n",
            "[0.11049838413987643, 0.016680288485889525, 0.042684395474779896]\n"
          ]
        }
      ],
      "source": [
        "# Попробуем использовать т-тест для зависимых выборок\n",
        "import numpy as np\n",
        "from scipy import stats\n",
        "rows = min(len(data), len(data_test))\n",
        "val_list = []\n",
        "bigger = []\n",
        "for i in range(3):\n",
        "  stat , p_val = stats.ttest_rel(data_test.iloc[:rows,i+1], data.iloc[:rows,i+1])\n",
        "  one_sided = p_val/ 2 if stat > 0 else 1.0\n",
        "  val_list.append(p_val)\n",
        "  bigger.append(one_sided)\n",
        "print(bigger)\n",
        "print(val_list)\n",
        "\n"
      ]
    },
    {
      "cell_type": "code",
      "source": [
        "# Теперь мультитестинг\n",
        "from statsmodels.stats.multitest import multipletests\n",
        "rejected, p_corrected, _, _ = multipletests(val_list, alpha=0.05, method='holm')\n",
        "print(rejected) # Так средние отличаются"
      ],
      "metadata": {
        "colab": {
          "base_uri": "https://localhost:8080/"
        },
        "id": "RjRG0Xlo4g0V",
        "outputId": "311cc9d1-c029-4cb5-b5d5-f43fc1337c0f"
      },
      "id": "RjRG0Xlo4g0V",
      "execution_count": 24,
      "outputs": [
        {
          "output_type": "stream",
          "name": "stdout",
          "text": [
            "[False False False]\n"
          ]
        }
      ]
    },
    {
      "cell_type": "code",
      "source": [
        "rejected, p_corrected, _, _ = multipletests(bigger, alpha=0.05, method='holm')\n",
        "print(rejected) # Как и следовало из графика, среднея прибыль улучшается только для второй позиции"
      ],
      "metadata": {
        "colab": {
          "base_uri": "https://localhost:8080/"
        },
        "id": "qukk_uU35Iyh",
        "outputId": "b9dcf4c8-c6d3-46d7-df59-5e65f9a32f4c"
      },
      "id": "qukk_uU35Iyh",
      "execution_count": 26,
      "outputs": [
        {
          "output_type": "stream",
          "name": "stdout",
          "text": [
            "[False  True False]\n"
          ]
        }
      ]
    },
    {
      "cell_type": "markdown",
      "id": "afa49bcb",
      "metadata": {
        "id": "afa49bcb"
      },
      "source": [
        "* **(15 баллов)** Вдруг вы вспомнили курс статистики и то, что от постановки гипотезы очень сильно зависит вывод. Контролируя FWER на уровне 0.05 проверьте, есть ли позиции, где внедрение наоборот, уменьшает прибыль?"
      ]
    },
    {
      "cell_type": "code",
      "execution_count": 28,
      "id": "2dd4a001",
      "metadata": {
        "vscode": {
          "languageId": "r"
        },
        "colab": {
          "base_uri": "https://localhost:8080/"
        },
        "id": "2dd4a001",
        "outputId": "8c913949-6ec1-48ec-fc1c-0e3412f98841"
      },
      "outputs": [
        {
          "output_type": "stream",
          "name": "stdout",
          "text": [
            "[1.0, 1.0, 0.021342197737389948]\n"
          ]
        }
      ],
      "source": [
        "# Просто проведем тест обратный предыдущему\n",
        "smaller = []\n",
        "for i in range(3):\n",
        "  stat , p_val = stats.ttest_rel(data_test.iloc[:rows,i+1], data.iloc[:rows,i+1])\n",
        "  one_sided_2 = p_val/ 2 if stat < 0 else 1.0\n",
        "  smaller.append(one_sided_2)\n",
        "print(smaller)\n"
      ]
    },
    {
      "cell_type": "code",
      "source": [
        "rejected, p_corrected, _, _ = multipletests(smaller, alpha=0.05, method='holm')\n",
        "print(rejected) # доказательств того, что внедрение уменьшает прибыль не найдено"
      ],
      "metadata": {
        "colab": {
          "base_uri": "https://localhost:8080/"
        },
        "id": "pufXMNWZ7qjT",
        "outputId": "9e71db89-4d81-4145-b7b2-17b79f695ded"
      },
      "id": "pufXMNWZ7qjT",
      "execution_count": 29,
      "outputs": [
        {
          "output_type": "stream",
          "name": "stdout",
          "text": [
            "[False False False]\n"
          ]
        }
      ]
    },
    {
      "cell_type": "markdown",
      "id": "ae97c9c6",
      "metadata": {
        "id": "ae97c9c6"
      },
      "source": [
        "* **(5 баллов)** Сделайте вывод о том, стоит ли выкатывать в продакшн или нет данную модель."
      ]
    },
    {
      "cell_type": "markdown",
      "source": [
        "Данная модель имеет определенную эффективность на 2 позиции и не понижает прибыль на остальных, так что можно выкатывать"
      ],
      "metadata": {
        "id": "rIs66nWp8FDD"
      },
      "id": "rIs66nWp8FDD"
    },
    {
      "cell_type": "markdown",
      "id": "bb60eecf",
      "metadata": {
        "id": "bb60eecf"
      },
      "source": [
        "* **(25 баллов)** Тут вам показалось, что распределение цен не очень подходит для проверки гипотезы о средних (интересно, почему?) - [среднее не устойчиво к выбросам, прибыль лучше мерить медианой]. Да и прибыль с одной рекламной позиции вас мало интересует, интересует суммарная прибыль.\n",
        "\n",
        "    Постройте выборку суммарной прибыли с одного захода на сайт (для этого числа в каждой строчке нужно сложить). Постройте бутстреповский доверительный интервал Эфрона и Холла для разности медиан в контроле и тесте уровня доверия 0.95. Сравните их. На основании ДИ ответьте на вопрос: увеличивает ли значимо внедрение суммарную прибыль или нет?"
      ]
    },
    {
      "cell_type": "code",
      "execution_count": 31,
      "id": "6cd8ba72",
      "metadata": {
        "vscode": {
          "languageId": "r"
        },
        "colab": {
          "base_uri": "https://localhost:8080/",
          "height": 206
        },
        "id": "6cd8ba72",
        "outputId": "d1a0cc33-07df-4c34-8fda-5eeca16796c6"
      },
      "outputs": [
        {
          "output_type": "execute_result",
          "data": {
            "text/plain": [
              "   Unnamed: 0  position_1  position_2  position_3     Overall\n",
              "0           0  162.653811  129.137424  156.936867  448.728102\n",
              "1           1  141.669563   87.411934  109.776013  338.857511\n",
              "2           2    0.000000  101.022540  147.892473  248.915012\n",
              "3           3  158.722011   78.210189   97.205361  334.137561\n",
              "4           4    0.000000  177.414528    0.000000  177.414528"
            ],
            "text/html": [
              "\n",
              "  <div id=\"df-8e7336bd-06a5-43a3-9b90-a29fd58c39b4\" class=\"colab-df-container\">\n",
              "    <div>\n",
              "<style scoped>\n",
              "    .dataframe tbody tr th:only-of-type {\n",
              "        vertical-align: middle;\n",
              "    }\n",
              "\n",
              "    .dataframe tbody tr th {\n",
              "        vertical-align: top;\n",
              "    }\n",
              "\n",
              "    .dataframe thead th {\n",
              "        text-align: right;\n",
              "    }\n",
              "</style>\n",
              "<table border=\"1\" class=\"dataframe\">\n",
              "  <thead>\n",
              "    <tr style=\"text-align: right;\">\n",
              "      <th></th>\n",
              "      <th>Unnamed: 0</th>\n",
              "      <th>position_1</th>\n",
              "      <th>position_2</th>\n",
              "      <th>position_3</th>\n",
              "      <th>Overall</th>\n",
              "    </tr>\n",
              "  </thead>\n",
              "  <tbody>\n",
              "    <tr>\n",
              "      <th>0</th>\n",
              "      <td>0</td>\n",
              "      <td>162.653811</td>\n",
              "      <td>129.137424</td>\n",
              "      <td>156.936867</td>\n",
              "      <td>448.728102</td>\n",
              "    </tr>\n",
              "    <tr>\n",
              "      <th>1</th>\n",
              "      <td>1</td>\n",
              "      <td>141.669563</td>\n",
              "      <td>87.411934</td>\n",
              "      <td>109.776013</td>\n",
              "      <td>338.857511</td>\n",
              "    </tr>\n",
              "    <tr>\n",
              "      <th>2</th>\n",
              "      <td>2</td>\n",
              "      <td>0.000000</td>\n",
              "      <td>101.022540</td>\n",
              "      <td>147.892473</td>\n",
              "      <td>248.915012</td>\n",
              "    </tr>\n",
              "    <tr>\n",
              "      <th>3</th>\n",
              "      <td>3</td>\n",
              "      <td>158.722011</td>\n",
              "      <td>78.210189</td>\n",
              "      <td>97.205361</td>\n",
              "      <td>334.137561</td>\n",
              "    </tr>\n",
              "    <tr>\n",
              "      <th>4</th>\n",
              "      <td>4</td>\n",
              "      <td>0.000000</td>\n",
              "      <td>177.414528</td>\n",
              "      <td>0.000000</td>\n",
              "      <td>177.414528</td>\n",
              "    </tr>\n",
              "  </tbody>\n",
              "</table>\n",
              "</div>\n",
              "    <div class=\"colab-df-buttons\">\n",
              "\n",
              "  <div class=\"colab-df-container\">\n",
              "    <button class=\"colab-df-convert\" onclick=\"convertToInteractive('df-8e7336bd-06a5-43a3-9b90-a29fd58c39b4')\"\n",
              "            title=\"Convert this dataframe to an interactive table.\"\n",
              "            style=\"display:none;\">\n",
              "\n",
              "  <svg xmlns=\"http://www.w3.org/2000/svg\" height=\"24px\" viewBox=\"0 -960 960 960\">\n",
              "    <path d=\"M120-120v-720h720v720H120Zm60-500h600v-160H180v160Zm220 220h160v-160H400v160Zm0 220h160v-160H400v160ZM180-400h160v-160H180v160Zm440 0h160v-160H620v160ZM180-180h160v-160H180v160Zm440 0h160v-160H620v160Z\"/>\n",
              "  </svg>\n",
              "    </button>\n",
              "\n",
              "  <style>\n",
              "    .colab-df-container {\n",
              "      display:flex;\n",
              "      gap: 12px;\n",
              "    }\n",
              "\n",
              "    .colab-df-convert {\n",
              "      background-color: #E8F0FE;\n",
              "      border: none;\n",
              "      border-radius: 50%;\n",
              "      cursor: pointer;\n",
              "      display: none;\n",
              "      fill: #1967D2;\n",
              "      height: 32px;\n",
              "      padding: 0 0 0 0;\n",
              "      width: 32px;\n",
              "    }\n",
              "\n",
              "    .colab-df-convert:hover {\n",
              "      background-color: #E2EBFA;\n",
              "      box-shadow: 0px 1px 2px rgba(60, 64, 67, 0.3), 0px 1px 3px 1px rgba(60, 64, 67, 0.15);\n",
              "      fill: #174EA6;\n",
              "    }\n",
              "\n",
              "    .colab-df-buttons div {\n",
              "      margin-bottom: 4px;\n",
              "    }\n",
              "\n",
              "    [theme=dark] .colab-df-convert {\n",
              "      background-color: #3B4455;\n",
              "      fill: #D2E3FC;\n",
              "    }\n",
              "\n",
              "    [theme=dark] .colab-df-convert:hover {\n",
              "      background-color: #434B5C;\n",
              "      box-shadow: 0px 1px 3px 1px rgba(0, 0, 0, 0.15);\n",
              "      filter: drop-shadow(0px 1px 2px rgba(0, 0, 0, 0.3));\n",
              "      fill: #FFFFFF;\n",
              "    }\n",
              "  </style>\n",
              "\n",
              "    <script>\n",
              "      const buttonEl =\n",
              "        document.querySelector('#df-8e7336bd-06a5-43a3-9b90-a29fd58c39b4 button.colab-df-convert');\n",
              "      buttonEl.style.display =\n",
              "        google.colab.kernel.accessAllowed ? 'block' : 'none';\n",
              "\n",
              "      async function convertToInteractive(key) {\n",
              "        const element = document.querySelector('#df-8e7336bd-06a5-43a3-9b90-a29fd58c39b4');\n",
              "        const dataTable =\n",
              "          await google.colab.kernel.invokeFunction('convertToInteractive',\n",
              "                                                    [key], {});\n",
              "        if (!dataTable) return;\n",
              "\n",
              "        const docLinkHtml = 'Like what you see? Visit the ' +\n",
              "          '<a target=\"_blank\" href=https://colab.research.google.com/notebooks/data_table.ipynb>data table notebook</a>'\n",
              "          + ' to learn more about interactive tables.';\n",
              "        element.innerHTML = '';\n",
              "        dataTable['output_type'] = 'display_data';\n",
              "        await google.colab.output.renderOutput(dataTable, element);\n",
              "        const docLink = document.createElement('div');\n",
              "        docLink.innerHTML = docLinkHtml;\n",
              "        element.appendChild(docLink);\n",
              "      }\n",
              "    </script>\n",
              "  </div>\n",
              "\n",
              "\n",
              "<div id=\"df-7ee272ce-1568-47b2-b69b-89560122dd4f\">\n",
              "  <button class=\"colab-df-quickchart\" onclick=\"quickchart('df-7ee272ce-1568-47b2-b69b-89560122dd4f')\"\n",
              "            title=\"Suggest charts\"\n",
              "            style=\"display:none;\">\n",
              "\n",
              "<svg xmlns=\"http://www.w3.org/2000/svg\" height=\"24px\"viewBox=\"0 0 24 24\"\n",
              "     width=\"24px\">\n",
              "    <g>\n",
              "        <path d=\"M19 3H5c-1.1 0-2 .9-2 2v14c0 1.1.9 2 2 2h14c1.1 0 2-.9 2-2V5c0-1.1-.9-2-2-2zM9 17H7v-7h2v7zm4 0h-2V7h2v10zm4 0h-2v-4h2v4z\"/>\n",
              "    </g>\n",
              "</svg>\n",
              "  </button>\n",
              "\n",
              "<style>\n",
              "  .colab-df-quickchart {\n",
              "      --bg-color: #E8F0FE;\n",
              "      --fill-color: #1967D2;\n",
              "      --hover-bg-color: #E2EBFA;\n",
              "      --hover-fill-color: #174EA6;\n",
              "      --disabled-fill-color: #AAA;\n",
              "      --disabled-bg-color: #DDD;\n",
              "  }\n",
              "\n",
              "  [theme=dark] .colab-df-quickchart {\n",
              "      --bg-color: #3B4455;\n",
              "      --fill-color: #D2E3FC;\n",
              "      --hover-bg-color: #434B5C;\n",
              "      --hover-fill-color: #FFFFFF;\n",
              "      --disabled-bg-color: #3B4455;\n",
              "      --disabled-fill-color: #666;\n",
              "  }\n",
              "\n",
              "  .colab-df-quickchart {\n",
              "    background-color: var(--bg-color);\n",
              "    border: none;\n",
              "    border-radius: 50%;\n",
              "    cursor: pointer;\n",
              "    display: none;\n",
              "    fill: var(--fill-color);\n",
              "    height: 32px;\n",
              "    padding: 0;\n",
              "    width: 32px;\n",
              "  }\n",
              "\n",
              "  .colab-df-quickchart:hover {\n",
              "    background-color: var(--hover-bg-color);\n",
              "    box-shadow: 0 1px 2px rgba(60, 64, 67, 0.3), 0 1px 3px 1px rgba(60, 64, 67, 0.15);\n",
              "    fill: var(--button-hover-fill-color);\n",
              "  }\n",
              "\n",
              "  .colab-df-quickchart-complete:disabled,\n",
              "  .colab-df-quickchart-complete:disabled:hover {\n",
              "    background-color: var(--disabled-bg-color);\n",
              "    fill: var(--disabled-fill-color);\n",
              "    box-shadow: none;\n",
              "  }\n",
              "\n",
              "  .colab-df-spinner {\n",
              "    border: 2px solid var(--fill-color);\n",
              "    border-color: transparent;\n",
              "    border-bottom-color: var(--fill-color);\n",
              "    animation:\n",
              "      spin 1s steps(1) infinite;\n",
              "  }\n",
              "\n",
              "  @keyframes spin {\n",
              "    0% {\n",
              "      border-color: transparent;\n",
              "      border-bottom-color: var(--fill-color);\n",
              "      border-left-color: var(--fill-color);\n",
              "    }\n",
              "    20% {\n",
              "      border-color: transparent;\n",
              "      border-left-color: var(--fill-color);\n",
              "      border-top-color: var(--fill-color);\n",
              "    }\n",
              "    30% {\n",
              "      border-color: transparent;\n",
              "      border-left-color: var(--fill-color);\n",
              "      border-top-color: var(--fill-color);\n",
              "      border-right-color: var(--fill-color);\n",
              "    }\n",
              "    40% {\n",
              "      border-color: transparent;\n",
              "      border-right-color: var(--fill-color);\n",
              "      border-top-color: var(--fill-color);\n",
              "    }\n",
              "    60% {\n",
              "      border-color: transparent;\n",
              "      border-right-color: var(--fill-color);\n",
              "    }\n",
              "    80% {\n",
              "      border-color: transparent;\n",
              "      border-right-color: var(--fill-color);\n",
              "      border-bottom-color: var(--fill-color);\n",
              "    }\n",
              "    90% {\n",
              "      border-color: transparent;\n",
              "      border-bottom-color: var(--fill-color);\n",
              "    }\n",
              "  }\n",
              "</style>\n",
              "\n",
              "  <script>\n",
              "    async function quickchart(key) {\n",
              "      const quickchartButtonEl =\n",
              "        document.querySelector('#' + key + ' button');\n",
              "      quickchartButtonEl.disabled = true;  // To prevent multiple clicks.\n",
              "      quickchartButtonEl.classList.add('colab-df-spinner');\n",
              "      try {\n",
              "        const charts = await google.colab.kernel.invokeFunction(\n",
              "            'suggestCharts', [key], {});\n",
              "      } catch (error) {\n",
              "        console.error('Error during call to suggestCharts:', error);\n",
              "      }\n",
              "      quickchartButtonEl.classList.remove('colab-df-spinner');\n",
              "      quickchartButtonEl.classList.add('colab-df-quickchart-complete');\n",
              "    }\n",
              "    (() => {\n",
              "      let quickchartButtonEl =\n",
              "        document.querySelector('#df-7ee272ce-1568-47b2-b69b-89560122dd4f button');\n",
              "      quickchartButtonEl.style.display =\n",
              "        google.colab.kernel.accessAllowed ? 'block' : 'none';\n",
              "    })();\n",
              "  </script>\n",
              "</div>\n",
              "\n",
              "    </div>\n",
              "  </div>\n"
            ],
            "application/vnd.google.colaboratory.intrinsic+json": {
              "type": "dataframe",
              "variable_name": "data",
              "summary": "{\n  \"name\": \"data\",\n  \"rows\": 1432,\n  \"fields\": [\n    {\n      \"column\": \"Unnamed: 0\",\n      \"properties\": {\n        \"dtype\": \"number\",\n        \"std\": 413,\n        \"min\": 0,\n        \"max\": 1431,\n        \"num_unique_values\": 1432,\n        \"samples\": [\n          123,\n          1192,\n          462\n        ],\n        \"semantic_type\": \"\",\n        \"description\": \"\"\n      }\n    },\n    {\n      \"column\": \"position_1\",\n      \"properties\": {\n        \"dtype\": \"number\",\n        \"std\": 75.58791620059723,\n        \"min\": 0.0,\n        \"max\": 409.6888056102769,\n        \"num_unique_values\": 1001,\n        \"samples\": [\n          39.31328350480531,\n          147.39599559601095,\n          216.3235454807522\n        ],\n        \"semantic_type\": \"\",\n        \"description\": \"\"\n      }\n    },\n    {\n      \"column\": \"position_2\",\n      \"properties\": {\n        \"dtype\": \"number\",\n        \"std\": 72.24042747458688,\n        \"min\": 0.0,\n        \"max\": 392.0992171336363,\n        \"num_unique_values\": 1033,\n        \"samples\": [\n          124.57968274464233,\n          159.03567841058376,\n          174.17542704119356\n        ],\n        \"semantic_type\": \"\",\n        \"description\": \"\"\n      }\n    },\n    {\n      \"column\": \"position_3\",\n      \"properties\": {\n        \"dtype\": \"number\",\n        \"std\": 81.40785319659949,\n        \"min\": 0.0,\n        \"max\": 432.18099732224647,\n        \"num_unique_values\": 1133,\n        \"samples\": [\n          104.11749540649257,\n          142.88762485518114,\n          78.79893369560733\n        ],\n        \"semantic_type\": \"\",\n        \"description\": \"\"\n      }\n    },\n    {\n      \"column\": \"Overall\",\n      \"properties\": {\n        \"dtype\": \"number\",\n        \"std\": 131.60634887836935,\n        \"min\": 0.0,\n        \"max\": 720.3249901194545,\n        \"num_unique_values\": 1408,\n        \"samples\": [\n          238.74154354961402,\n          312.3447942038488,\n          237.59971825183118\n        ],\n        \"semantic_type\": \"\",\n        \"description\": \"\"\n      }\n    }\n  ]\n}"
            }
          },
          "metadata": {},
          "execution_count": 31
        }
      ],
      "source": [
        "data[\"Overall\"] = data.iloc[:,1:4].sum(axis=1)\n",
        "data_test[\"Overall\"] = data_test.iloc[:,1:4].sum(axis=1)\n",
        "data.head()"
      ]
    },
    {
      "cell_type": "code",
      "source": [
        "from sklearn.utils import resample\n",
        "def bootstrap_median(data): # Будет делать выборки и считать медианы\n",
        "    mlist = []\n",
        "    for i in range(len(data)):\n",
        "      array = resample(data, replace=True, random_state = 907)\n",
        "      mlist.append(np.median(array))\n",
        "    return mlist\n",
        "\n"
      ],
      "metadata": {
        "id": "qJJCpgbS8oqu"
      },
      "id": "qJJCpgbS8oqu",
      "execution_count": 39,
      "outputs": []
    },
    {
      "cell_type": "code",
      "source": [
        "min_len = min(len(bootstrap_prime), len(bootstrap_test))\n",
        "bootstrap_prime = bootstrap_median(data['Overall'])\n",
        "bootstrap_test = bootstrap_median(data_test['Overall'])\n",
        "min_len = min(len(bootstrap_prime), len(bootstrap_test))\n",
        "difference = np.array(bootstrap_test[min_len]) - np.array(bootstrap_prime[:min_len])\n",
        "\n",
        "efron = np.percentile(difference, [2.5, 97.5])\n",
        "print(efron)"
      ],
      "metadata": {
        "colab": {
          "base_uri": "https://localhost:8080/"
        },
        "id": "ribtMggK-ANf",
        "outputId": "8cd1369c-653d-4602-fb64-99e6b71e3bad"
      },
      "id": "ribtMggK-ANf",
      "execution_count": 43,
      "outputs": [
        {
          "output_type": "stream",
          "name": "stdout",
          "text": [
            "[ 3.90032005 20.7622269 ]\n"
          ]
        }
      ]
    },
    {
      "cell_type": "code",
      "source": [
        "#Теперь для интервала Холла\n",
        "center = np.median(data_test['Overall']) - np.median(data['Overall'])\n",
        "center_difference = difference - center\n",
        "two_q = np.percentile(center_difference, [2.5, 97.5])\n",
        "hall = [center - two_q[1], center - two_q[0]]\n",
        "print(hall)\n"
      ],
      "metadata": {
        "colab": {
          "base_uri": "https://localhost:8080/"
        },
        "id": "9onq06hR_5jf",
        "outputId": "7a5044f5-1a6c-4aee-e1d4-c54f11c8743f"
      },
      "id": "9onq06hR_5jf",
      "execution_count": 48,
      "outputs": [
        {
          "output_type": "stream",
          "name": "stdout",
          "text": [
            "[-8.683039045667726, 8.178867799127683]\n"
          ]
        }
      ]
    },
    {
      "cell_type": "markdown",
      "id": "2d6432d6",
      "metadata": {
        "id": "2d6432d6"
      },
      "source": [
        "* **(5 баллов)** Проверьте свой результат подходящим непараметрическим тестом из лекции 6."
      ]
    },
    {
      "cell_type": "code",
      "execution_count": 55,
      "id": "d739d260",
      "metadata": {
        "vscode": {
          "languageId": "r"
        },
        "colab": {
          "base_uri": "https://localhost:8080/"
        },
        "id": "d739d260",
        "outputId": "54e28f7e-9ded-4186-cf9b-0849681bc7b8"
      },
      "outputs": [
        {
          "output_type": "stream",
          "name": "stdout",
          "text": [
            "1.1750316965633743e-186\n"
          ]
        }
      ],
      "source": [
        "# Будем использовать критерий Уилкоксона\n",
        "diff = np.array(data_test['Overall'][min_len] - data['Overall'][:min_len])\n",
        "stat, p_value = stats.wilcoxon(diff, alternative='greater')\n",
        "print(p_value)  # Медиана тестовой группы действительно больше\n"
      ]
    },
    {
      "cell_type": "code",
      "source": [],
      "metadata": {
        "id": "-x4Ps6lSE0OU"
      },
      "id": "-x4Ps6lSE0OU",
      "execution_count": 54,
      "outputs": []
    }
  ],
  "metadata": {
    "kernelspec": {
      "display_name": "Python 3 (ipykernel)",
      "language": "python",
      "name": "python3"
    },
    "language_info": {
      "codemirror_mode": {
        "name": "ipython",
        "version": 3
      },
      "file_extension": ".py",
      "mimetype": "text/x-python",
      "name": "python",
      "nbconvert_exporter": "python",
      "pygments_lexer": "ipython3",
      "version": "3.9.7"
    },
    "colab": {
      "provenance": []
    }
  },
  "nbformat": 4,
  "nbformat_minor": 5
}